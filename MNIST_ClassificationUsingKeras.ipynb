{
  "nbformat": 4,
  "nbformat_minor": 0,
  "metadata": {
    "colab": {
      "name": "Prateek_Model.ipynb",
      "provenance": [],
      "collapsed_sections": []
    },
    "kernelspec": {
      "name": "python3",
      "display_name": "Python 3"
    },
    "accelerator": "GPU"
  },
  "cells": [
    {
      "cell_type": "code",
      "metadata": {
        "id": "YUW1dgUUk0QG"
      },
      "source": [
        "import keras\n",
        "from keras.datasets import mnist\n",
        "from keras.models import Sequential\n",
        "from keras.layers import Dense, Dropout\n",
        "from keras.optimizers import RMSprop\n",
        "from keras.models import Sequential\n",
        "from keras.layers import Conv2D, MaxPool2D, Dense, Flatten, Dropout, BatchNormalization\n",
        "import numpy as np\n",
        "from tensorflow.keras.preprocessing.image import ImageDataGenerator\n",
        "\n",
        "#Initialising the test and training set\n",
        "\n",
        "(x_train, labels_train), (x_test, labels_test) = mnist.load_data()\n",
        "x_train = x_train.reshape(60000, 784)\n",
        "x_test = x_test.reshape(10000, 784)\n",
        "x_train = x_train.astype('float32')\n",
        "x_test = x_test.astype('float32')\n",
        "x_train /= 255\n",
        "x_test /= 255\n",
        "y_train = keras.utils.to_categorical(labels_train, 10)\n",
        "y_test = keras.utils.to_categorical(labels_test, 10)\n",
        "x_train = x_train.reshape(x_train.shape[0], 28, 28, 1)\n",
        "x_test = x_test.reshape(x_test.shape[0], 28, 28, 1)\n",
        "\n",
        "# define data preparation\n",
        "datagen = ImageDataGenerator(rotation_range=10,zoom_range = 0.10,width_shift_range=0.1,height_shift_range=0.1)\n",
        "# fit parameters from data\n",
        "datagen.fit(x_train)\n",
        "# configure batch size and retrieve one batch of images\n",
        "X_batch = datagen.flow(x_train, labels_train, batch_size=100)\n",
        "\n",
        "b_size=100\n",
        "c_counter=0\n",
        "X_new=[]\n",
        "Y_new=[]\n",
        "for i in range(len(X_batch)):\n",
        "  X_new.append(X_batch[i][0].flatten())\n",
        "  c_counter+=1\n",
        "  Y_new.append(X_batch[i][1].flatten())\n",
        "\n",
        "Y_new=(np.array(Y_new).flatten()).reshape(c_counter*b_size,)\n",
        "X_new=np.array(X_new).reshape(c_counter*b_size,28,28,1)\n",
        "Y_new_test = keras.utils.to_categorical(Y_new, 10)\n",
        "\n",
        "\n",
        "x_train_new=np.concatenate((x_train, X_new), axis=0)\n",
        "y_train_new=np.concatenate((y_train, Y_new_test), axis=0)\n",
        "labels_train_new=np.concatenate((labels_train, Y_new), axis=0)\n",
        "\n",
        "\n"
      ],
      "execution_count": null,
      "outputs": []
    },
    {
      "cell_type": "code",
      "metadata": {
        "id": "NjXsWm20k6AC"
      },
      "source": [
        "#Helper functions\n",
        "import pandas as pd\n",
        "\n",
        "#Get the error rates per digits\n",
        "def error_rate_per_digit(labels_predicted,labels_test):\n",
        "    c=[]\n",
        "    d=[]\n",
        "    o_c=[]\n",
        "    o_d=[]\n",
        "    for i in range(len(labels_predicted)):\n",
        "        o_c.append(labels_test[i])\n",
        "        o_d.append(1)\n",
        "        if labels_predicted[i] != labels_test[i]:\n",
        "            c.append(labels_test[i])\n",
        "            d.append(1)\n",
        "    e=pd.DataFrame(np.transpose([c]))\n",
        "    f=pd.DataFrame(np.transpose([d]))\n",
        "    g=e.merge(f,left_index=True,right_index=True)\n",
        "    o_e=pd.DataFrame(np.transpose([o_c]))\n",
        "    o_f=pd.DataFrame(np.transpose([o_d]))\n",
        "    o_g=o_e.merge(o_f,left_index=True,right_index=True)\n",
        "    final=o_g.groupby('0_x').count().reset_index().merge(g.groupby('0_x').count().reset_index(),left_index=True,right_index=True)\n",
        "    final=final.rename(columns={\"0_x_x\":'digits',\"0_y_x\":\"Predicted_Correct\",'0_y_y':'Predcited_incorrectly'})\n",
        "    final['error_rate']=np.round(final['Predcited_incorrectly']/final['Predicted_Correct'],4)*100\n",
        "    del final['0_x_y']\n",
        "    return final\n",
        "  #  get_error_rate=error_rate_per_digit(labels_predicted,labels_test)\n",
        "  #  print(get_error_rate)\n",
        "\n",
        "#Shows the digits in a plot\n",
        "import matplotlib.pyplot as plt\n",
        "def show_digits(x_test,labels_predicted,misclassified):\n",
        "  fig_size_est=round(misclassified/10)\n",
        "  plt.figure(figsize=(10,10))\n",
        "  c_counter=1\n",
        "  ax_counter=1\n",
        "  for i in range(0,100):\n",
        "      for j in range(0,100):\n",
        "          if labels_predicted[c_counter-1] != labels_test[c_counter-1]:\n",
        "              #print(labels_predicted[c_counter-1],labels_test[c_counter-1],'\\n')\n",
        "              ax=plt.subplot(10,10,ax_counter)\n",
        "              plt.imshow(x_test[c_counter-1,:].reshape(28,28), cmap=plt.get_cmap('gray_r'))\n",
        "              plt.title(labels_predicted[c_counter-1])\n",
        "              ax.get_xaxis().set_visible(False)\n",
        "              ax.get_yaxis().set_visible(False)\n",
        "              ax_counter+=1\n",
        "          c_counter+=1\n",
        "\n",
        "def misclassification_error(net,x_test,labels_test):\n",
        "  outputs=net.predict(x_test)\n",
        "  labels_predicted=np.argmax(outputs, axis=1)\n",
        "  misclassified=sum(labels_predicted!=labels_test)\n",
        "  print('Percentage misclassified = ',100*misclassified/labels_test.size)\n",
        "  return labels_predicted\n"
      ],
      "execution_count": null,
      "outputs": []
    },
    {
      "cell_type": "code",
      "metadata": {
        "id": "LsxRiMJ0k8t3"
      },
      "source": [
        "#---------------------------------------------------"
      ],
      "execution_count": null,
      "outputs": []
    },
    {
      "cell_type": "code",
      "metadata": {
        "colab": {
          "base_uri": "https://localhost:8080/"
        },
        "id": "8q4ZbXCrlBWY",
        "outputId": "ae605959-67b4-490a-caab-dda19964e95c"
      },
      "source": [
        "#Model Information here\n",
        "net = Sequential()\n",
        "net.add(Conv2D(filters=32, kernel_size=(5,5), activation='relu',input_shape=(28,28,1)))\n",
        "net.add(BatchNormalization())\n",
        "net.add(MaxPool2D(pool_size=(2, 2)))\n",
        "net.add(Conv2D(32, (3, 3), activation='relu',padding='same'))\n",
        "net.add(BatchNormalization())\n",
        "net.add(Dropout(rate=0.5))\n",
        "net.add(Conv2D(32, (3, 3), activation='relu',padding='same'))\n",
        "net.add(BatchNormalization())\n",
        "net.add(Dropout(rate=0.5))\n",
        "net.add(Conv2D(64, (3, 3), activation='relu'))\n",
        "net.add(MaxPool2D(pool_size=(2, 2)))\n",
        "net.add(BatchNormalization())\n",
        "net.add(Conv2D(128, (3, 3), activation='relu'))\n",
        "net.add(MaxPool2D(pool_size=(2, 2)))\n",
        "net.add(BatchNormalization())\n",
        "net.add(Flatten())\n",
        "net.add(Dropout(rate=0.5))\n",
        "net.add(Dense(256, activation='relu'))\n",
        "net.add(Dropout(rate=0.5))\n",
        "net.add(Dense(512, activation='relu'))\n",
        "net.add(Dropout(rate=0.5))\n",
        "net.add(Dense(1024, activation='relu'))\n",
        "net.add(Dropout(rate=0.5))\n",
        "net.add(Dense(512, activation='relu'))\n",
        "net.add(Dropout(rate=0.5))\n",
        "net.add(Dense(256, activation='relu'))\n",
        "net.add(Dropout(rate=0.5))\n",
        "net.add(Dense(10, activation='softmax'))\n",
        "net.summary()\n",
        "net.compile(loss='categorical_crossentropy', optimizer='adam')\n"
      ],
      "execution_count": null,
      "outputs": [
        {
          "output_type": "stream",
          "text": [
            "Model: \"sequential_2\"\n",
            "_________________________________________________________________\n",
            "Layer (type)                 Output Shape              Param #   \n",
            "=================================================================\n",
            "conv2d_10 (Conv2D)           (None, 24, 24, 32)        832       \n",
            "_________________________________________________________________\n",
            "batch_normalization_10 (Batc (None, 24, 24, 32)        128       \n",
            "_________________________________________________________________\n",
            "max_pooling2d_6 (MaxPooling2 (None, 12, 12, 32)        0         \n",
            "_________________________________________________________________\n",
            "conv2d_11 (Conv2D)           (None, 12, 12, 32)        9248      \n",
            "_________________________________________________________________\n",
            "batch_normalization_11 (Batc (None, 12, 12, 32)        128       \n",
            "_________________________________________________________________\n",
            "dropout_16 (Dropout)         (None, 12, 12, 32)        0         \n",
            "_________________________________________________________________\n",
            "conv2d_12 (Conv2D)           (None, 12, 12, 32)        9248      \n",
            "_________________________________________________________________\n",
            "batch_normalization_12 (Batc (None, 12, 12, 32)        128       \n",
            "_________________________________________________________________\n",
            "dropout_17 (Dropout)         (None, 12, 12, 32)        0         \n",
            "_________________________________________________________________\n",
            "conv2d_13 (Conv2D)           (None, 10, 10, 64)        18496     \n",
            "_________________________________________________________________\n",
            "max_pooling2d_7 (MaxPooling2 (None, 5, 5, 64)          0         \n",
            "_________________________________________________________________\n",
            "batch_normalization_13 (Batc (None, 5, 5, 64)          256       \n",
            "_________________________________________________________________\n",
            "conv2d_14 (Conv2D)           (None, 3, 3, 128)         73856     \n",
            "_________________________________________________________________\n",
            "max_pooling2d_8 (MaxPooling2 (None, 1, 1, 128)         0         \n",
            "_________________________________________________________________\n",
            "batch_normalization_14 (Batc (None, 1, 1, 128)         512       \n",
            "_________________________________________________________________\n",
            "flatten_2 (Flatten)          (None, 128)               0         \n",
            "_________________________________________________________________\n",
            "dropout_18 (Dropout)         (None, 128)               0         \n",
            "_________________________________________________________________\n",
            "dense_12 (Dense)             (None, 256)               33024     \n",
            "_________________________________________________________________\n",
            "dropout_19 (Dropout)         (None, 256)               0         \n",
            "_________________________________________________________________\n",
            "dense_13 (Dense)             (None, 512)               131584    \n",
            "_________________________________________________________________\n",
            "dropout_20 (Dropout)         (None, 512)               0         \n",
            "_________________________________________________________________\n",
            "dense_14 (Dense)             (None, 1024)              525312    \n",
            "_________________________________________________________________\n",
            "dropout_21 (Dropout)         (None, 1024)              0         \n",
            "_________________________________________________________________\n",
            "dense_15 (Dense)             (None, 512)               524800    \n",
            "_________________________________________________________________\n",
            "dropout_22 (Dropout)         (None, 512)               0         \n",
            "_________________________________________________________________\n",
            "dense_16 (Dense)             (None, 256)               131328    \n",
            "_________________________________________________________________\n",
            "dropout_23 (Dropout)         (None, 256)               0         \n",
            "_________________________________________________________________\n",
            "dense_17 (Dense)             (None, 10)                2570      \n",
            "=================================================================\n",
            "Total params: 1,461,450\n",
            "Trainable params: 1,460,874\n",
            "Non-trainable params: 576\n",
            "_________________________________________________________________\n"
          ],
          "name": "stdout"
        }
      ]
    },
    {
      "cell_type": "code",
      "metadata": {
        "id": "6bge8N34lDNo"
      },
      "source": [
        "#----------------------------------------------------------------"
      ],
      "execution_count": null,
      "outputs": []
    },
    {
      "cell_type": "code",
      "metadata": {
        "id": "MEv2zeDelFKo"
      },
      "source": [
        "#Loading Weights or Model if needed\n",
        "net.load_weights(\"network_for_mnist_weights.h5\")"
      ],
      "execution_count": null,
      "outputs": []
    },
    {
      "cell_type": "code",
      "metadata": {
        "colab": {
          "base_uri": "https://localhost:8080/"
        },
        "id": "5RGz5J4LlG-x",
        "outputId": "72da0884-3fd0-4efe-f7a6-91d05d265884"
      },
      "source": [
        "#Training the model here\n",
        "#history = net.fit(x_train,y_train,validation_data=(x_train_new, y_train_new), epochs=50, batch_size=16)\n",
        "history = net.fit(datagen.flow(x_train, y_train, batch_size=256),steps_per_epoch=len(x_train) / 256, epochs=20)\n",
        "net.save_weights('network_for_mnist_weights.h5')"
      ],
      "execution_count": null,
      "outputs": [
        {
          "output_type": "stream",
          "text": [
            "Epoch 1/20\n",
            "234/234 [==============================] - 14s 58ms/step - loss: 0.0483\n",
            "Epoch 2/20\n",
            "234/234 [==============================] - 14s 58ms/step - loss: 0.0486\n",
            "Epoch 3/20\n",
            "234/234 [==============================] - 14s 59ms/step - loss: 0.0444\n",
            "Epoch 4/20\n",
            "234/234 [==============================] - 14s 59ms/step - loss: 0.0444\n",
            "Epoch 5/20\n",
            "234/234 [==============================] - 14s 59ms/step - loss: 0.0478\n",
            "Epoch 6/20\n",
            "234/234 [==============================] - 14s 59ms/step - loss: 0.0468\n",
            "Epoch 7/20\n",
            "234/234 [==============================] - 14s 59ms/step - loss: 0.0430\n",
            "Epoch 8/20\n",
            "234/234 [==============================] - 14s 58ms/step - loss: 0.0475\n",
            "Epoch 9/20\n",
            "234/234 [==============================] - 14s 60ms/step - loss: 0.0479\n",
            "Epoch 10/20\n",
            "234/234 [==============================] - 14s 58ms/step - loss: 0.0550\n",
            "Epoch 11/20\n",
            "234/234 [==============================] - 14s 58ms/step - loss: 0.0526\n",
            "Epoch 12/20\n",
            "234/234 [==============================] - 14s 59ms/step - loss: 0.0482\n",
            "Epoch 13/20\n",
            "234/234 [==============================] - 14s 59ms/step - loss: 0.0473\n",
            "Epoch 14/20\n",
            "234/234 [==============================] - 14s 59ms/step - loss: 0.0459\n",
            "Epoch 15/20\n",
            "234/234 [==============================] - 14s 58ms/step - loss: 0.0485\n",
            "Epoch 16/20\n",
            "234/234 [==============================] - 14s 58ms/step - loss: 0.0453\n",
            "Epoch 17/20\n",
            "234/234 [==============================] - 14s 59ms/step - loss: 0.0437\n",
            "Epoch 18/20\n",
            "234/234 [==============================] - 14s 58ms/step - loss: 0.0497\n",
            "Epoch 19/20\n",
            "234/234 [==============================] - 14s 58ms/step - loss: 0.0477\n",
            "Epoch 20/20\n",
            "234/234 [==============================] - 14s 58ms/step - loss: 0.0450\n"
          ],
          "name": "stdout"
        }
      ]
    },
    {
      "cell_type": "code",
      "metadata": {
        "colab": {
          "base_uri": "https://localhost:8080/"
        },
        "id": "3JzAQuzqq7vr",
        "outputId": "57d52c19-414c-4ca1-bd39-44dcc9371ec0"
      },
      "source": [
        "#Testing the model on the MNIST test set\n",
        "labels_predicted=misclassification_error(net,x_test,labels_test)\n",
        "get_error_rate=error_rate_per_digit(labels_predicted,labels_test)\n",
        "print(get_error_rate)"
      ],
      "execution_count": null,
      "outputs": [
        {
          "output_type": "stream",
          "text": [
            "Percentage misclassified =  0.37\n",
            "   digits  Predicted_Correct  Predcited_incorrectly  error_rate\n",
            "0       0                980                      2        0.20\n",
            "1       1               1135                      8        0.70\n",
            "2       2               1032                      3        0.29\n",
            "3       3               1010                      2        0.20\n",
            "4       4                982                      2        0.20\n",
            "5       5                892                      5        0.56\n",
            "6       6                958                      2        0.21\n",
            "7       7               1028                      3        0.29\n",
            "8       8                974                      4        0.41\n",
            "9       9               1009                      6        0.59\n"
          ],
          "name": "stdout"
        }
      ]
    },
    {
      "cell_type": "code",
      "metadata": {
        "colab": {
          "base_uri": "https://localhost:8080/"
        },
        "id": "Shp1wtxsleCI",
        "outputId": "7b00ef27-64bb-4bc4-850f-1d24962d59b2"
      },
      "source": [
        "pip install emnist"
      ],
      "execution_count": null,
      "outputs": [
        {
          "output_type": "stream",
          "text": [
            "Collecting emnist\n",
            "  Downloading https://files.pythonhosted.org/packages/d1/f4/78b24acbef9e8fe976dda700f16a3606f3b8363b015bc555f8050fbbd8ac/emnist-0.0-py3-none-any.whl\n",
            "Requirement already satisfied: numpy in /usr/local/lib/python3.7/dist-packages (from emnist) (1.19.5)\n",
            "Requirement already satisfied: tqdm in /usr/local/lib/python3.7/dist-packages (from emnist) (4.41.1)\n",
            "Requirement already satisfied: requests in /usr/local/lib/python3.7/dist-packages (from emnist) (2.23.0)\n",
            "Requirement already satisfied: certifi>=2017.4.17 in /usr/local/lib/python3.7/dist-packages (from requests->emnist) (2020.12.5)\n",
            "Requirement already satisfied: urllib3!=1.25.0,!=1.25.1,<1.26,>=1.21.1 in /usr/local/lib/python3.7/dist-packages (from requests->emnist) (1.24.3)\n",
            "Requirement already satisfied: idna<3,>=2.5 in /usr/local/lib/python3.7/dist-packages (from requests->emnist) (2.10)\n",
            "Requirement already satisfied: chardet<4,>=3.0.2 in /usr/local/lib/python3.7/dist-packages (from requests->emnist) (3.0.4)\n",
            "Installing collected packages: emnist\n",
            "Successfully installed emnist-0.0\n"
          ],
          "name": "stdout"
        }
      ]
    },
    {
      "cell_type": "code",
      "metadata": {
        "colab": {
          "base_uri": "https://localhost:8080/"
        },
        "id": "APf6UF56lf8J",
        "outputId": "c81e2f03-c7fc-41b3-882a-c519b2ae3fc8"
      },
      "source": [
        "#Validation on the EMNIST Training data\n",
        "from emnist import extract_training_samples\n",
        "emnist_image, emnist_labels = extract_training_samples('digits')\n",
        "emnist_image = emnist_image.reshape(240000, 784)\n",
        "emnist_image = emnist_image.astype('float32')\n",
        "emnist_image /= 255\n",
        "emnist_labels_1 = keras.utils.to_categorical(emnist_labels, 10)\n",
        "emnist_image = emnist_image.reshape(emnist_image.shape[0], 28, 28, 1)\n",
        "\n",
        "#outputs=net2.predict(emnist_image)\n",
        "#labels_predicted=np.argmax(outputs, axis=1)\n",
        "#misclassified=sum(labels_predicted!=emnist_labels)\n",
        "#print('Percentage misclassified = ',100*misclassified/emnist_labels.size)\n",
        "\n",
        "labels_predicted_emnist_train=misclassification_error(net,emnist_image,emnist_labels)\n",
        "get_error_rate=error_rate_per_digit(labels_predicted_emnist_train,emnist_labels)\n",
        "print(get_error_rate)"
      ],
      "execution_count": null,
      "outputs": [
        {
          "output_type": "stream",
          "text": [
            "Percentage misclassified =  0.44458333333333333\n",
            "   digits  Predicted_Correct  Predcited_incorrectly  error_rate\n",
            "0       0              24000                    109        0.45\n",
            "1       1              24000                    102        0.42\n",
            "2       2              24000                    105        0.44\n",
            "3       3              24000                    109        0.45\n",
            "4       4              24000                    100        0.42\n",
            "5       5              24000                    113        0.47\n",
            "6       6              24000                     52        0.22\n",
            "7       7              24000                     38        0.16\n",
            "8       8              24000                    120        0.50\n",
            "9       9              24000                    219        0.91\n"
          ],
          "name": "stdout"
        }
      ]
    },
    {
      "cell_type": "code",
      "metadata": {
        "colab": {
          "base_uri": "https://localhost:8080/"
        },
        "id": "jMOKQFcxliEh",
        "outputId": "80c2a727-bbee-42b1-a198-cd641920d0d8"
      },
      "source": [
        "#Testing on the EMNIST Test Data\n",
        "from emnist import extract_test_samples\n",
        "emnist_image_test, emnist_labels_test = extract_test_samples('digits')\n",
        "emnist_image_test = emnist_image_test.reshape(40000, 784)\n",
        "emnist_image_test = emnist_image_test.astype('float32')\n",
        "emnist_image_test /= 255\n",
        "emnist_labels_1_test = keras.utils.to_categorical(emnist_labels_test, 10)\n",
        "emnist_image_test = emnist_image_test.reshape(emnist_image_test.shape[0], 28, 28, 1)\n",
        "\n",
        "#outputs=net.predict(emnist_image_test)\n",
        "#labels_predicted_emnist=np.argmax(outputs, axis=1)\n",
        "#misclassified=sum(labels_predicted_emnist!=emnist_labels_test)\n",
        "#print('Percentage misclassified = ',100*misclassified/emnist_labels_test.size)\n",
        "labels_predicted_emnist=misclassification_error(net,emnist_image_test,emnist_labels_test)\n",
        "get_error_rate=error_rate_per_digit(labels_predicted_emnist,emnist_labels_test)\n",
        "print(get_error_rate)"
      ],
      "execution_count": null,
      "outputs": [
        {
          "output_type": "stream",
          "text": [
            "Percentage misclassified =  0.485\n",
            "   digits  Predicted_Correct  Predcited_incorrectly  error_rate\n",
            "0       0               4000                     34        0.85\n",
            "1       1               4000                     22        0.55\n",
            "2       2               4000                     13        0.32\n",
            "3       3               4000                     19        0.48\n",
            "4       4               4000                     24        0.60\n",
            "5       5               4000                     18        0.45\n",
            "6       6               4000                      7        0.18\n",
            "7       7               4000                      4        0.10\n",
            "8       8               4000                     10        0.25\n",
            "9       9               4000                     43        1.07\n"
          ],
          "name": "stdout"
        }
      ]
    },
    {
      "cell_type": "code",
      "metadata": {
        "colab": {
          "base_uri": "https://localhost:8080/"
        },
        "id": "B6WYL-Kklj5p",
        "outputId": "7f7773ba-da78-4b4b-d418-5f057a85204c"
      },
      "source": [
        "#Testing on the Augmented Data\n",
        "labels_predicted=misclassification_error(net,X_new,Y_new)\n",
        "get_error_rate=error_rate_per_digit(labels_predicted,Y_new)\n",
        "print(get_error_rate)"
      ],
      "execution_count": null,
      "outputs": [
        {
          "output_type": "stream",
          "text": [
            "Percentage misclassified =  0.3566666666666667\n",
            "   digits  Predicted_Correct  Predcited_incorrectly  error_rate\n",
            "0       0               5923                     10        0.17\n",
            "1       1               6742                     22        0.33\n",
            "2       2               5958                     10        0.17\n",
            "3       3               6131                     24        0.39\n",
            "4       4               5842                     34        0.58\n",
            "5       5               5421                     37        0.68\n",
            "6       6               5918                     12        0.20\n",
            "7       7               6265                     15        0.24\n",
            "8       8               5851                     16        0.27\n",
            "9       9               5949                     34        0.57\n"
          ],
          "name": "stdout"
        }
      ]
    },
    {
      "cell_type": "code",
      "metadata": {
        "id": "chc96CGQlmBh"
      },
      "source": [
        "#If all looks good saving the Model weights and the model\n",
        "net.save_weights('network_for_mnist_weights_Prateek_1.h5')\n",
        "#net.save(\"network_for_mnist_latest.h5\")\n",
        "#from keras.models import load_model\n",
        "#net=load_model(\"network_for_mnist_weights_Prateek.h5\")"
      ],
      "execution_count": null,
      "outputs": []
    },
    {
      "cell_type": "code",
      "metadata": {
        "colab": {
          "base_uri": "https://localhost:8080/"
        },
        "id": "fduGvXBTl2VY",
        "outputId": "1d8f9598-17f8-4692-9ddd-aea72881686c"
      },
      "source": [
        "net.summary()"
      ],
      "execution_count": null,
      "outputs": [
        {
          "output_type": "stream",
          "text": [
            "Model: \"sequential_13\"\n",
            "_________________________________________________________________\n",
            "Layer (type)                 Output Shape              Param #   \n",
            "=================================================================\n",
            "conv2d_50 (Conv2D)           (None, 24, 24, 32)        832       \n",
            "_________________________________________________________________\n",
            "batch_normalization_49 (Batc (None, 24, 24, 32)        128       \n",
            "_________________________________________________________________\n",
            "max_pooling2d_33 (MaxPooling (None, 12, 12, 32)        0         \n",
            "_________________________________________________________________\n",
            "conv2d_51 (Conv2D)           (None, 12, 12, 32)        9248      \n",
            "_________________________________________________________________\n",
            "batch_normalization_50 (Batc (None, 12, 12, 32)        128       \n",
            "_________________________________________________________________\n",
            "dropout_67 (Dropout)         (None, 12, 12, 32)        0         \n",
            "_________________________________________________________________\n",
            "conv2d_52 (Conv2D)           (None, 12, 12, 32)        9248      \n",
            "_________________________________________________________________\n",
            "batch_normalization_51 (Batc (None, 12, 12, 32)        128       \n",
            "_________________________________________________________________\n",
            "dropout_68 (Dropout)         (None, 12, 12, 32)        0         \n",
            "_________________________________________________________________\n",
            "conv2d_53 (Conv2D)           (None, 10, 10, 64)        18496     \n",
            "_________________________________________________________________\n",
            "max_pooling2d_34 (MaxPooling (None, 5, 5, 64)          0         \n",
            "_________________________________________________________________\n",
            "batch_normalization_52 (Batc (None, 5, 5, 64)          256       \n",
            "_________________________________________________________________\n",
            "conv2d_54 (Conv2D)           (None, 3, 3, 128)         73856     \n",
            "_________________________________________________________________\n",
            "max_pooling2d_35 (MaxPooling (None, 1, 1, 128)         0         \n",
            "_________________________________________________________________\n",
            "batch_normalization_53 (Batc (None, 1, 1, 128)         512       \n",
            "_________________________________________________________________\n",
            "flatten_11 (Flatten)         (None, 128)               0         \n",
            "_________________________________________________________________\n",
            "dropout_69 (Dropout)         (None, 128)               0         \n",
            "_________________________________________________________________\n",
            "dense_56 (Dense)             (None, 256)               33024     \n",
            "_________________________________________________________________\n",
            "dropout_70 (Dropout)         (None, 256)               0         \n",
            "_________________________________________________________________\n",
            "dense_57 (Dense)             (None, 512)               131584    \n",
            "_________________________________________________________________\n",
            "dropout_71 (Dropout)         (None, 512)               0         \n",
            "_________________________________________________________________\n",
            "dense_58 (Dense)             (None, 1024)              525312    \n",
            "_________________________________________________________________\n",
            "dropout_72 (Dropout)         (None, 1024)              0         \n",
            "_________________________________________________________________\n",
            "dense_59 (Dense)             (None, 512)               524800    \n",
            "_________________________________________________________________\n",
            "dropout_73 (Dropout)         (None, 512)               0         \n",
            "_________________________________________________________________\n",
            "dense_60 (Dense)             (None, 256)               131328    \n",
            "_________________________________________________________________\n",
            "dropout_74 (Dropout)         (None, 256)               0         \n",
            "_________________________________________________________________\n",
            "dense_61 (Dense)             (None, 10)                2570      \n",
            "=================================================================\n",
            "Total params: 1,461,450\n",
            "Trainable params: 1,460,874\n",
            "Non-trainable params: 576\n",
            "_________________________________________________________________\n"
          ],
          "name": "stdout"
        }
      ]
    },
    {
      "cell_type": "code",
      "metadata": {
        "id": "sEDGPVZvGoNm"
      },
      "source": [
        "net.save_weights('network_for_mnist_weights.h5')\n",
        "net.save(\"network_for_mnist.h5\")"
      ],
      "execution_count": null,
      "outputs": []
    }
  ]
}